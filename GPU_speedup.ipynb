{
  "nbformat": 4,
  "nbformat_minor": 0,
  "metadata": {
    "colab": {
      "provenance": [],
      "gpuType": "T4",
      "authorship_tag": "ABX9TyN5P69qrgV3QkrBik8WFDMP",
      "include_colab_link": true
    },
    "kernelspec": {
      "name": "python3",
      "display_name": "Python 3"
    },
    "language_info": {
      "name": "python"
    },
    "accelerator": "GPU"
  },
  "cells": [
    {
      "cell_type": "markdown",
      "metadata": {
        "id": "view-in-github",
        "colab_type": "text"
      },
      "source": [
        "<a href=\"https://colab.research.google.com/github/marcodigennaro/GPU_speedup/blob/main/GPU_speedup.ipynb\" target=\"_parent\"><img src=\"https://colab.research.google.com/assets/colab-badge.svg\" alt=\"Open In Colab\"/></a>"
      ]
    },
    {
      "cell_type": "code",
      "source": [
        "!git clone https://github.com/marcodigennaro/GPU_speedup.git\n",
        "import os\n",
        "os.chdir('GPU_speedup')\n",
        "!pip install ."
      ],
      "metadata": {
        "colab": {
          "base_uri": "https://localhost:8080/"
        },
        "id": "uLLLAUgSLTiP",
        "outputId": "0c1503a6-e44b-4baa-eae8-3ff553fe107a"
      },
      "execution_count": 1,
      "outputs": [
        {
          "output_type": "stream",
          "name": "stdout",
          "text": [
            "fatal: destination path 'GPU_speedup' already exists and is not an empty directory.\n"
          ]
        }
      ]
    },
    {
      "cell_type": "code",
      "source": [
        "import timeit\n",
        "\n",
        "from gpu_speedup.wrapper import device_context\n",
        "from gpu_speedup.functions import matrix_elem_sum, matrix_multiplication"
      ],
      "metadata": {
        "id": "F6jwANuBMpYB"
      },
      "execution_count": 14,
      "outputs": []
    },
    {
      "cell_type": "code",
      "source": [
        "@device_context('/cpu:0')\n",
        "def matrix_elem_sum_cpu():\n",
        "    \"\"\"\n",
        "    Perform matrix_elem_sum on the CPU.\n",
        "    \"\"\"\n",
        "    return matrix_elem_sum()\n",
        "\n",
        "@device_context('/device:GPU:0')\n",
        "def matrix_elem_sum_gpu():\n",
        "    \"\"\"\n",
        "    Perform matrix_elem_sum on the GPU.\n",
        "    \"\"\"\n",
        "    return matrix_elem_sum()\n",
        "\n",
        "# Measure execution time\n",
        "time_cpu = timeit.timeit('matrix_elem_sum_cpu()', number=10, setup='from __main__ import matrix_elem_sum_cpu')\n",
        "time_gpu = timeit.timeit('matrix_elem_sum_gpu()', number=10, setup='from __main__ import matrix_elem_sum_gpu')\n",
        "\n",
        "# Output the results\n",
        "print(f\"CPU time: {time_cpu}, GPU time: {time_gpu}: GPU is {time_cpu / time_gpu} faster than CPU\")"
      ],
      "metadata": {
        "colab": {
          "base_uri": "https://localhost:8080/"
        },
        "id": "WGeWDrAvRCMm",
        "outputId": "29bcd8a0-aad9-4a5d-c6d5-5133543e16c8"
      },
      "execution_count": 15,
      "outputs": [
        {
          "output_type": "stream",
          "name": "stdout",
          "text": [
            "CPU time: 5.595889262000128, GPU time: 0.2073143370002981: GPU is 26.99229268447595 faster than CPU\n"
          ]
        }
      ]
    },
    {
      "cell_type": "code",
      "source": [
        "@device_context('/cpu:0')\n",
        "def matrix_multiplication_cpu():\n",
        "    \"\"\"\n",
        "    Perform matrix_multiplication on the CPU.\n",
        "    \"\"\"\n",
        "    return matrix_multiplication()\n",
        "\n",
        "@device_context('/device:GPU:0')\n",
        "def matrix_multiplication_gpu():\n",
        "    \"\"\"\n",
        "    Perform matrix_multiplication on the GPU.\n",
        "    \"\"\"\n",
        "    return matrix_multiplication()\n",
        "\n",
        "# Measure execution time\n",
        "time_cpu = timeit.timeit('matrix_multiplication_cpu()', number=10, setup='from __main__ import matrix_multiplication_cpu')\n",
        "time_gpu = timeit.timeit('matrix_multiplication_gpu()', number=10, setup='from __main__ import matrix_multiplication_gpu')\n",
        "\n",
        "# Output the results\n",
        "print(f\"CPU time: {time_cpu}, GPU time: {time_gpu}: GPU is {time_cpu / time_gpu} faster than CPU\")"
      ],
      "metadata": {
        "colab": {
          "base_uri": "https://localhost:8080/"
        },
        "id": "W5d0V2jAREk5",
        "outputId": "ddba3ad7-5591-44cc-f56d-14daaafd8fae"
      },
      "execution_count": 16,
      "outputs": [
        {
          "output_type": "stream",
          "name": "stdout",
          "text": [
            "CPU time: 1.287219382999865, GPU time: 0.01898736600014672: GPU is 67.79346766633762 faster than CPU\n"
          ]
        }
      ]
    }
  ]
}