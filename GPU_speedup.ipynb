{
  "nbformat": 4,
  "nbformat_minor": 0,
  "metadata": {
    "colab": {
      "provenance": [],
      "gpuType": "T4",
      "authorship_tag": "ABX9TyPPMLaouyzeh/BjjMTRjEtI",
      "include_colab_link": true
    },
    "kernelspec": {
      "name": "python3",
      "display_name": "Python 3"
    },
    "language_info": {
      "name": "python"
    },
    "accelerator": "GPU"
  },
  "cells": [
    {
      "cell_type": "markdown",
      "metadata": {
        "id": "view-in-github",
        "colab_type": "text"
      },
      "source": [
        "<a href=\"https://colab.research.google.com/github/marcodigennaro/GPU_speedup/blob/main/GPU_speedup.ipynb\" target=\"_parent\"><img src=\"https://colab.research.google.com/assets/colab-badge.svg\" alt=\"Open In Colab\"/></a>"
      ]
    },
    {
      "cell_type": "code",
      "source": [
        "import shutil\n",
        "import os\n",
        "#shutil.rmtree('GPU_speedup')\n",
        "!git clone https://github.com/marcodigennaro/GPU_speedup.git"
      ],
      "metadata": {
        "colab": {
          "base_uri": "https://localhost:8080/"
        },
        "id": "uLLLAUgSLTiP",
        "outputId": "78e0e381-510f-4720-feb9-d1f571fda30a"
      },
      "execution_count": 2,
      "outputs": [
        {
          "output_type": "stream",
          "name": "stdout",
          "text": [
            "Cloning into 'GPU_speedup'...\n",
            "remote: Enumerating objects: 39, done.\u001b[K\n",
            "remote: Counting objects: 100% (39/39), done.\u001b[K\n",
            "remote: Compressing objects: 100% (26/26), done.\u001b[K\n",
            "remote: Total 39 (delta 15), reused 28 (delta 8), pack-reused 0\u001b[K\n",
            "Receiving objects: 100% (39/39), 6.92 KiB | 6.92 MiB/s, done.\n",
            "Resolving deltas: 100% (15/15), done.\n"
          ]
        }
      ]
    },
    {
      "cell_type": "code",
      "source": [
        "os.chdir('GPU_speedup')\n",
        "os.getcwd()"
      ],
      "metadata": {
        "colab": {
          "base_uri": "https://localhost:8080/",
          "height": 35
        },
        "id": "XQNjZHHsLl3g",
        "outputId": "df8b86a7-9dd3-4d3d-b879-5741de4b9d59"
      },
      "execution_count": 3,
      "outputs": [
        {
          "output_type": "execute_result",
          "data": {
            "text/plain": [
              "'/content/GPU_speedup'"
            ],
            "application/vnd.google.colaboratory.intrinsic+json": {
              "type": "string"
            }
          },
          "metadata": {},
          "execution_count": 3
        }
      ]
    },
    {
      "cell_type": "code",
      "source": [
        "!git pull\n",
        "!pip install -e ."
      ],
      "metadata": {
        "colab": {
          "base_uri": "https://localhost:8080/"
        },
        "id": "ieTapDqMLn8N",
        "outputId": "6218f38c-7284-40af-e27e-056a88e1b781"
      },
      "execution_count": 4,
      "outputs": [
        {
          "output_type": "stream",
          "name": "stdout",
          "text": [
            "Already up to date.\n",
            "Obtaining file:///content/GPU_speedup\n",
            "  Installing build dependencies ... \u001b[?25l\u001b[?25hdone\n",
            "  Checking if build backend supports build_editable ... \u001b[?25l\u001b[?25hdone\n",
            "  Getting requirements to build editable ... \u001b[?25l\u001b[?25hdone\n",
            "  Preparing editable metadata (pyproject.toml) ... \u001b[?25l\u001b[?25hdone\n",
            "Collecting tensorflow<3.0.0,>=2.16.1 (from gpu-speedup==0.1.0)\n",
            "  Downloading tensorflow-2.16.1-cp310-cp310-manylinux_2_17_x86_64.manylinux2014_x86_64.whl (589.8 MB)\n",
            "\u001b[2K     \u001b[90m━━━━━━━━━━━━━━━━━━━━━━━━━━━━━━━━━━━━━━━━\u001b[0m \u001b[32m589.8/589.8 MB\u001b[0m \u001b[31m2.0 MB/s\u001b[0m eta \u001b[36m0:00:00\u001b[0m\n",
            "\u001b[?25hRequirement already satisfied: absl-py>=1.0.0 in /usr/local/lib/python3.10/dist-packages (from tensorflow<3.0.0,>=2.16.1->gpu-speedup==0.1.0) (1.4.0)\n",
            "Requirement already satisfied: astunparse>=1.6.0 in /usr/local/lib/python3.10/dist-packages (from tensorflow<3.0.0,>=2.16.1->gpu-speedup==0.1.0) (1.6.3)\n",
            "Requirement already satisfied: flatbuffers>=23.5.26 in /usr/local/lib/python3.10/dist-packages (from tensorflow<3.0.0,>=2.16.1->gpu-speedup==0.1.0) (24.3.25)\n",
            "Requirement already satisfied: gast!=0.5.0,!=0.5.1,!=0.5.2,>=0.2.1 in /usr/local/lib/python3.10/dist-packages (from tensorflow<3.0.0,>=2.16.1->gpu-speedup==0.1.0) (0.5.4)\n",
            "Requirement already satisfied: google-pasta>=0.1.1 in /usr/local/lib/python3.10/dist-packages (from tensorflow<3.0.0,>=2.16.1->gpu-speedup==0.1.0) (0.2.0)\n",
            "Collecting h5py>=3.10.0 (from tensorflow<3.0.0,>=2.16.1->gpu-speedup==0.1.0)\n",
            "  Downloading h5py-3.11.0-cp310-cp310-manylinux_2_17_x86_64.manylinux2014_x86_64.whl (5.3 MB)\n",
            "\u001b[2K     \u001b[90m━━━━━━━━━━━━━━━━━━━━━━━━━━━━━━━━━━━━━━━━\u001b[0m \u001b[32m5.3/5.3 MB\u001b[0m \u001b[31m98.1 MB/s\u001b[0m eta \u001b[36m0:00:00\u001b[0m\n",
            "\u001b[?25hRequirement already satisfied: libclang>=13.0.0 in /usr/local/lib/python3.10/dist-packages (from tensorflow<3.0.0,>=2.16.1->gpu-speedup==0.1.0) (18.1.1)\n",
            "Collecting ml-dtypes~=0.3.1 (from tensorflow<3.0.0,>=2.16.1->gpu-speedup==0.1.0)\n",
            "  Downloading ml_dtypes-0.3.2-cp310-cp310-manylinux_2_17_x86_64.manylinux2014_x86_64.whl (2.2 MB)\n",
            "\u001b[2K     \u001b[90m━━━━━━━━━━━━━━━━━━━━━━━━━━━━━━━━━━━━━━━━\u001b[0m \u001b[32m2.2/2.2 MB\u001b[0m \u001b[31m93.3 MB/s\u001b[0m eta \u001b[36m0:00:00\u001b[0m\n",
            "\u001b[?25hRequirement already satisfied: opt-einsum>=2.3.2 in /usr/local/lib/python3.10/dist-packages (from tensorflow<3.0.0,>=2.16.1->gpu-speedup==0.1.0) (3.3.0)\n",
            "Requirement already satisfied: packaging in /usr/local/lib/python3.10/dist-packages (from tensorflow<3.0.0,>=2.16.1->gpu-speedup==0.1.0) (24.0)\n",
            "Requirement already satisfied: protobuf!=4.21.0,!=4.21.1,!=4.21.2,!=4.21.3,!=4.21.4,!=4.21.5,<5.0.0dev,>=3.20.3 in /usr/local/lib/python3.10/dist-packages (from tensorflow<3.0.0,>=2.16.1->gpu-speedup==0.1.0) (3.20.3)\n",
            "Requirement already satisfied: requests<3,>=2.21.0 in /usr/local/lib/python3.10/dist-packages (from tensorflow<3.0.0,>=2.16.1->gpu-speedup==0.1.0) (2.31.0)\n",
            "Requirement already satisfied: setuptools in /usr/local/lib/python3.10/dist-packages (from tensorflow<3.0.0,>=2.16.1->gpu-speedup==0.1.0) (67.7.2)\n",
            "Requirement already satisfied: six>=1.12.0 in /usr/local/lib/python3.10/dist-packages (from tensorflow<3.0.0,>=2.16.1->gpu-speedup==0.1.0) (1.16.0)\n",
            "Requirement already satisfied: termcolor>=1.1.0 in /usr/local/lib/python3.10/dist-packages (from tensorflow<3.0.0,>=2.16.1->gpu-speedup==0.1.0) (2.4.0)\n",
            "Requirement already satisfied: typing-extensions>=3.6.6 in /usr/local/lib/python3.10/dist-packages (from tensorflow<3.0.0,>=2.16.1->gpu-speedup==0.1.0) (4.11.0)\n",
            "Requirement already satisfied: wrapt>=1.11.0 in /usr/local/lib/python3.10/dist-packages (from tensorflow<3.0.0,>=2.16.1->gpu-speedup==0.1.0) (1.14.1)\n",
            "Requirement already satisfied: grpcio<2.0,>=1.24.3 in /usr/local/lib/python3.10/dist-packages (from tensorflow<3.0.0,>=2.16.1->gpu-speedup==0.1.0) (1.63.0)\n",
            "Collecting tensorboard<2.17,>=2.16 (from tensorflow<3.0.0,>=2.16.1->gpu-speedup==0.1.0)\n",
            "  Downloading tensorboard-2.16.2-py3-none-any.whl (5.5 MB)\n",
            "\u001b[2K     \u001b[90m━━━━━━━━━━━━━━━━━━━━━━━━━━━━━━━━━━━━━━━━\u001b[0m \u001b[32m5.5/5.5 MB\u001b[0m \u001b[31m103.0 MB/s\u001b[0m eta \u001b[36m0:00:00\u001b[0m\n",
            "\u001b[?25hCollecting keras>=3.0.0 (from tensorflow<3.0.0,>=2.16.1->gpu-speedup==0.1.0)\n",
            "  Downloading keras-3.3.3-py3-none-any.whl (1.1 MB)\n",
            "\u001b[2K     \u001b[90m━━━━━━━━━━━━━━━━━━━━━━━━━━━━━━━━━━━━━━━━\u001b[0m \u001b[32m1.1/1.1 MB\u001b[0m \u001b[31m60.7 MB/s\u001b[0m eta \u001b[36m0:00:00\u001b[0m\n",
            "\u001b[?25hRequirement already satisfied: tensorflow-io-gcs-filesystem>=0.23.1 in /usr/local/lib/python3.10/dist-packages (from tensorflow<3.0.0,>=2.16.1->gpu-speedup==0.1.0) (0.37.0)\n",
            "Requirement already satisfied: numpy<2.0.0,>=1.23.5 in /usr/local/lib/python3.10/dist-packages (from tensorflow<3.0.0,>=2.16.1->gpu-speedup==0.1.0) (1.25.2)\n",
            "Requirement already satisfied: wheel<1.0,>=0.23.0 in /usr/local/lib/python3.10/dist-packages (from astunparse>=1.6.0->tensorflow<3.0.0,>=2.16.1->gpu-speedup==0.1.0) (0.43.0)\n",
            "Requirement already satisfied: rich in /usr/local/lib/python3.10/dist-packages (from keras>=3.0.0->tensorflow<3.0.0,>=2.16.1->gpu-speedup==0.1.0) (13.7.1)\n",
            "Collecting namex (from keras>=3.0.0->tensorflow<3.0.0,>=2.16.1->gpu-speedup==0.1.0)\n",
            "  Downloading namex-0.0.8-py3-none-any.whl (5.8 kB)\n",
            "Collecting optree (from keras>=3.0.0->tensorflow<3.0.0,>=2.16.1->gpu-speedup==0.1.0)\n",
            "  Downloading optree-0.11.0-cp310-cp310-manylinux_2_17_x86_64.manylinux2014_x86_64.whl (311 kB)\n",
            "\u001b[2K     \u001b[90m━━━━━━━━━━━━━━━━━━━━━━━━━━━━━━━━━━━━━━━━\u001b[0m \u001b[32m311.2/311.2 kB\u001b[0m \u001b[31m43.2 MB/s\u001b[0m eta \u001b[36m0:00:00\u001b[0m\n",
            "\u001b[?25hRequirement already satisfied: charset-normalizer<4,>=2 in /usr/local/lib/python3.10/dist-packages (from requests<3,>=2.21.0->tensorflow<3.0.0,>=2.16.1->gpu-speedup==0.1.0) (3.3.2)\n",
            "Requirement already satisfied: idna<4,>=2.5 in /usr/local/lib/python3.10/dist-packages (from requests<3,>=2.21.0->tensorflow<3.0.0,>=2.16.1->gpu-speedup==0.1.0) (3.7)\n",
            "Requirement already satisfied: urllib3<3,>=1.21.1 in /usr/local/lib/python3.10/dist-packages (from requests<3,>=2.21.0->tensorflow<3.0.0,>=2.16.1->gpu-speedup==0.1.0) (2.0.7)\n",
            "Requirement already satisfied: certifi>=2017.4.17 in /usr/local/lib/python3.10/dist-packages (from requests<3,>=2.21.0->tensorflow<3.0.0,>=2.16.1->gpu-speedup==0.1.0) (2024.2.2)\n",
            "Requirement already satisfied: markdown>=2.6.8 in /usr/local/lib/python3.10/dist-packages (from tensorboard<2.17,>=2.16->tensorflow<3.0.0,>=2.16.1->gpu-speedup==0.1.0) (3.6)\n",
            "Requirement already satisfied: tensorboard-data-server<0.8.0,>=0.7.0 in /usr/local/lib/python3.10/dist-packages (from tensorboard<2.17,>=2.16->tensorflow<3.0.0,>=2.16.1->gpu-speedup==0.1.0) (0.7.2)\n",
            "Requirement already satisfied: werkzeug>=1.0.1 in /usr/local/lib/python3.10/dist-packages (from tensorboard<2.17,>=2.16->tensorflow<3.0.0,>=2.16.1->gpu-speedup==0.1.0) (3.0.2)\n",
            "Requirement already satisfied: MarkupSafe>=2.1.1 in /usr/local/lib/python3.10/dist-packages (from werkzeug>=1.0.1->tensorboard<2.17,>=2.16->tensorflow<3.0.0,>=2.16.1->gpu-speedup==0.1.0) (2.1.5)\n",
            "Requirement already satisfied: markdown-it-py>=2.2.0 in /usr/local/lib/python3.10/dist-packages (from rich->keras>=3.0.0->tensorflow<3.0.0,>=2.16.1->gpu-speedup==0.1.0) (3.0.0)\n",
            "Requirement already satisfied: pygments<3.0.0,>=2.13.0 in /usr/local/lib/python3.10/dist-packages (from rich->keras>=3.0.0->tensorflow<3.0.0,>=2.16.1->gpu-speedup==0.1.0) (2.16.1)\n",
            "Requirement already satisfied: mdurl~=0.1 in /usr/local/lib/python3.10/dist-packages (from markdown-it-py>=2.2.0->rich->keras>=3.0.0->tensorflow<3.0.0,>=2.16.1->gpu-speedup==0.1.0) (0.1.2)\n",
            "Building wheels for collected packages: gpu-speedup\n",
            "  Building editable for gpu-speedup (pyproject.toml) ... \u001b[?25l\u001b[?25hdone\n",
            "  Created wheel for gpu-speedup: filename=gpu_speedup-0.1.0-py3-none-any.whl size=1123 sha256=53a9b9c6e062af64217770d1de5dafe3f7c7362da2f041428d287d43da051e36\n",
            "  Stored in directory: /tmp/pip-ephem-wheel-cache-i7geuw4j/wheels/e2/06/7a/7f334348a9c1d5178853793404a1832605b1576665f5edf1a9\n",
            "Successfully built gpu-speedup\n",
            "Installing collected packages: namex, optree, ml-dtypes, h5py, tensorboard, keras, tensorflow, gpu-speedup\n",
            "  Attempting uninstall: ml-dtypes\n",
            "    Found existing installation: ml-dtypes 0.2.0\n",
            "    Uninstalling ml-dtypes-0.2.0:\n",
            "      Successfully uninstalled ml-dtypes-0.2.0\n",
            "  Attempting uninstall: h5py\n",
            "    Found existing installation: h5py 3.9.0\n",
            "    Uninstalling h5py-3.9.0:\n",
            "      Successfully uninstalled h5py-3.9.0\n",
            "  Attempting uninstall: tensorboard\n",
            "    Found existing installation: tensorboard 2.15.2\n",
            "    Uninstalling tensorboard-2.15.2:\n",
            "      Successfully uninstalled tensorboard-2.15.2\n",
            "  Attempting uninstall: keras\n",
            "    Found existing installation: keras 2.15.0\n",
            "    Uninstalling keras-2.15.0:\n",
            "      Successfully uninstalled keras-2.15.0\n",
            "  Attempting uninstall: tensorflow\n",
            "    Found existing installation: tensorflow 2.15.0\n",
            "    Uninstalling tensorflow-2.15.0:\n",
            "      Successfully uninstalled tensorflow-2.15.0\n",
            "\u001b[31mERROR: pip's dependency resolver does not currently take into account all the packages that are installed. This behaviour is the source of the following dependency conflicts.\n",
            "tf-keras 2.15.1 requires tensorflow<2.16,>=2.15, but you have tensorflow 2.16.1 which is incompatible.\u001b[0m\u001b[31m\n",
            "\u001b[0mSuccessfully installed gpu-speedup-0.1.0 h5py-3.11.0 keras-3.3.3 ml-dtypes-0.3.2 namex-0.0.8 optree-0.11.0 tensorboard-2.16.2 tensorflow-2.16.1\n"
          ]
        }
      ]
    },
    {
      "cell_type": "code",
      "source": [
        "import timeit\n",
        "import tensorflow as tf\n",
        "\n",
        "from gpu_speedup.wrapper import device_context\n",
        "from gpu_speedup.functions import matrix_elem_sum, matrix_multiplication"
      ],
      "metadata": {
        "id": "F6jwANuBMpYB"
      },
      "execution_count": 5,
      "outputs": []
    },
    {
      "cell_type": "code",
      "source": [
        "@device_context('/cpu:0')\n",
        "def matrix_elem_sum_cpu():\n",
        "    \"\"\"\n",
        "    Perform matrix_elem_sum on the CPU.\n",
        "    \"\"\"\n",
        "    return matrix_elem_sum()\n",
        "\n",
        "@device_context('/device:GPU:0')\n",
        "def matrix_elem_sum_gpu():\n",
        "    \"\"\"\n",
        "    Perform matrix_elem_sum on the GPU.\n",
        "    \"\"\"\n",
        "    return matrix_elem_sum()\n",
        "\n",
        "# Measure execution time\n",
        "time_cpu = timeit.timeit('matrix_elem_sum_cpu()', number=10, setup='from __main__ import matrix_elem_sum_cpu')\n",
        "time_gpu = timeit.timeit('matrix_elem_sum_gpu()', number=10, setup='from __main__ import matrix_elem_sum_gpu')\n",
        "\n",
        "# Output the results\n",
        "print(f\"CPU time: {time_cpu}, GPU time: {time_gpu}: GPU is {time_cpu / time_gpu} faster than CPU\")"
      ],
      "metadata": {
        "colab": {
          "base_uri": "https://localhost:8080/"
        },
        "id": "WGeWDrAvRCMm",
        "outputId": "d5630d7f-aa6d-4dc1-cbba-1b855a8d6cb3"
      },
      "execution_count": 6,
      "outputs": [
        {
          "output_type": "stream",
          "name": "stdout",
          "text": [
            "CPU time: 8.033510156000006, GPU time: 1.6593782299999873: GPU is 4.841277299389463 faster than CPU\n"
          ]
        }
      ]
    },
    {
      "cell_type": "code",
      "source": [
        "@device_context('/cpu:0')\n",
        "def matrix_multiplication_cpu():\n",
        "    \"\"\"\n",
        "    Perform matrix_multiplication on the CPU.\n",
        "    \"\"\"\n",
        "    return matrix_multiplication()\n",
        "\n",
        "@device_context('/device:GPU:0')\n",
        "def matrix_multiplication_gpu():\n",
        "    \"\"\"\n",
        "    Perform matrix_multiplication on the GPU.\n",
        "    \"\"\"\n",
        "    return matrix_multiplication()\n",
        "\n",
        "# Measure execution time\n",
        "time_cpu = timeit.timeit('matrix_multiplication_cpu()', number=10, setup='from __main__ import matrix_multiplication_cpu')\n",
        "time_gpu = timeit.timeit('matrix_multiplication_gpu()', number=10, setup='from __main__ import matrix_multiplication_gpu')\n",
        "\n",
        "# Output the results\n",
        "print(f\"CPU time: {time_cpu}, GPU time: {time_gpu}: GPU is {time_cpu / time_gpu} faster than CPU\")"
      ],
      "metadata": {
        "colab": {
          "base_uri": "https://localhost:8080/"
        },
        "id": "W5d0V2jAREk5",
        "outputId": "6d3a9ed0-743b-4b5c-f8dc-e854888418ec"
      },
      "execution_count": 7,
      "outputs": [
        {
          "output_type": "stream",
          "name": "stdout",
          "text": [
            "CPU time: 1.3587817929999915, GPU time: 0.05009834599999863: GPU is 27.122288488327115 faster than CPU\n"
          ]
        }
      ]
    },
    {
      "cell_type": "code",
      "source": [],
      "metadata": {
        "id": "LP-miM4fT3sx"
      },
      "execution_count": null,
      "outputs": []
    }
  ]
}