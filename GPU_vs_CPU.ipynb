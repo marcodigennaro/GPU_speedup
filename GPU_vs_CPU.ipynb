{
  "nbformat": 4,
  "nbformat_minor": 0,
  "metadata": {
    "colab": {
      "provenance": [],
      "gpuType": "T4",
      "authorship_tag": "ABX9TyMdwMZKXijLR7dunZ38vy6p",
      "include_colab_link": true
    },
    "kernelspec": {
      "name": "python3",
      "display_name": "Python 3"
    },
    "language_info": {
      "name": "python"
    },
    "accelerator": "GPU"
  },
  "cells": [
    {
      "cell_type": "markdown",
      "metadata": {
        "id": "view-in-github",
        "colab_type": "text"
      },
      "source": [
        "<a href=\"https://colab.research.google.com/github/marcodigennaro/GPU_speedup/blob/main/GPU_vs_CPU.ipynb\" target=\"_parent\"><img src=\"https://colab.research.google.com/assets/colab-badge.svg\" alt=\"Open In Colab\"/></a>"
      ]
    },
    {
      "cell_type": "code",
      "execution_count": 1,
      "metadata": {
        "colab": {
          "base_uri": "https://localhost:8080/"
        },
        "id": "XtffUnydsjLi",
        "outputId": "bdde516d-3362-4392-cb16-a01f4c15446c"
      },
      "outputs": [
        {
          "output_type": "stream",
          "name": "stdout",
          "text": [
            "TensorFlow version: 2.15.0\n"
          ]
        }
      ],
      "source": [
        "import tensorflow as tf\n",
        "print(\"TensorFlow version:\", tf.__version__)"
      ]
    },
    {
      "cell_type": "code",
      "source": [
        "!nvcc --version"
      ],
      "metadata": {
        "colab": {
          "base_uri": "https://localhost:8080/"
        },
        "id": "3Ltbx8tSs3_a",
        "outputId": "572fbced-701e-4a6e-e5f5-27e8a6c7c8a2"
      },
      "execution_count": 2,
      "outputs": [
        {
          "output_type": "stream",
          "name": "stdout",
          "text": [
            "nvcc: NVIDIA (R) Cuda compiler driver\n",
            "Copyright (c) 2005-2023 NVIDIA Corporation\n",
            "Built on Tue_Aug_15_22:02:13_PDT_2023\n",
            "Cuda compilation tools, release 12.2, V12.2.140\n",
            "Build cuda_12.2.r12.2/compiler.33191640_0\n"
          ]
        }
      ]
    },
    {
      "cell_type": "code",
      "source": [
        "tf.test.gpu_device_name()"
      ],
      "metadata": {
        "colab": {
          "base_uri": "https://localhost:8080/",
          "height": 35
        },
        "id": "dFPJM8s3tGM2",
        "outputId": "9bc19906-6ad6-45f0-c4e5-82431d42befc"
      },
      "execution_count": 3,
      "outputs": [
        {
          "output_type": "execute_result",
          "data": {
            "text/plain": [
              "'/device:GPU:0'"
            ],
            "application/vnd.google.colaboratory.intrinsic+json": {
              "type": "string"
            }
          },
          "metadata": {},
          "execution_count": 3
        }
      ]
    },
    {
      "cell_type": "code",
      "source": [
        "import timeit\n",
        "import gpu_speedup\n",
        "\n",
        "from gpu_speedup.wrapper import device_context\n",
        "from gpu_speedup.functions import matrix_elem_sum, matrix_multiplication\n"
      ],
      "metadata": {
        "id": "OgWpOCdkuX8h"
      },
      "execution_count": 4,
      "outputs": []
    },
    {
      "cell_type": "code",
      "source": [
        "\n",
        "@device_context('/cpu:0')\n",
        "def matrix_elem_sum_cpu():\n",
        "    \"\"\"\n",
        "    Perform matrix_elem_sum on the CPU.\n",
        "    \"\"\"\n",
        "    return matrix_elem_sum()\n",
        "\n",
        "@device_context('/device:GPU:0')\n",
        "def matrix_elem_sum_gpu():\n",
        "    \"\"\"\n",
        "    Perform matrix_elem_sum on the GPU.\n",
        "    \"\"\"\n",
        "    return matrix_elem_sum()\n",
        "\n",
        "# Measure execution time\n",
        "time_cpu = timeit.timeit('matrix_elem_sum_cpu()', number=10, setup='from __main__ import matrix_elem_sum_cpu')\n",
        "time_gpu = timeit.timeit('matrix_elem_sum_gpu()', number=10, setup='from __main__ import matrix_elem_sum_gpu')\n",
        "\n",
        "# Output the results\n",
        "print(f\"CPU time: {time_cpu}, GPU time: {time_gpu}: GPU is {time_cpu / time_gpu} faster than CPU\")"
      ],
      "metadata": {
        "colab": {
          "base_uri": "https://localhost:8080/"
        },
        "id": "5iYNPocxynNW",
        "outputId": "6fc62c7d-84dc-4d2e-aee0-7c483c369216"
      },
      "execution_count": 5,
      "outputs": [
        {
          "output_type": "stream",
          "name": "stdout",
          "text": [
            "CPU time: 8.757686168999953, GPU time: 1.8899750680000125: GPU is 4.633757512085813 faster than CPU\n"
          ]
        }
      ]
    },
    {
      "cell_type": "code",
      "source": [
        "\n",
        "\n",
        "@device_context('/cpu:0')\n",
        "def matrix_multiplication_cpu():\n",
        "    \"\"\"\n",
        "    Perform matrix_multiplication on the CPU.\n",
        "    \"\"\"\n",
        "    return matrix_multiplication()\n",
        "\n",
        "@device_context('/device:GPU:0')\n",
        "def matrix_multiplication_gpu():\n",
        "    \"\"\"\n",
        "    Perform matrix_multiplication on the GPU.\n",
        "    \"\"\"\n",
        "    return matrix_multiplication()"
      ],
      "metadata": {
        "id": "rSAH0NBfxpNJ"
      },
      "execution_count": 6,
      "outputs": []
    },
    {
      "cell_type": "code",
      "source": [
        "# Measure execution time\n",
        "time_cpu = timeit.timeit('matrix_multiplication_cpu()', number=10, setup='from __main__ import matrix_multiplication_cpu')\n",
        "time_gpu = timeit.timeit('matrix_multiplication_gpu()', number=10, setup='from __main__ import matrix_multiplication_gpu')\n",
        "\n",
        "# Output the results\n",
        "print(f\"CPU time: {time_cpu}, GPU time: {time_gpu}: GPU is {time_cpu / time_gpu} faster than CPU\")"
      ],
      "metadata": {
        "colab": {
          "base_uri": "https://localhost:8080/"
        },
        "id": "0YNDUbK-ybDd",
        "outputId": "416e607b-00c8-4aec-9558-8e19f379eb74"
      },
      "execution_count": 7,
      "outputs": [
        {
          "output_type": "stream",
          "name": "stdout",
          "text": [
            "CPU time: 1.3185014770001544, GPU time: 0.020762024000077872: GPU is 63.50544036531357 faster than CPU\n"
          ]
        }
      ]
    },
    {
      "cell_type": "code",
      "source": [],
      "metadata": {
        "id": "MEuE5gLuyhzN"
      },
      "execution_count": 7,
      "outputs": []
    }
  ]
}